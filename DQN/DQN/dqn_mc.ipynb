{
 "cells": [
  {
   "cell_type": "code",
   "execution_count": null,
   "metadata": {},
   "outputs": [],
   "source": [
    "import gym\n",
    "import torch\n",
    "import torch.nn as nn\n",
    "import torch.optim as optim\n",
    "import torch.nn.functional as F\n",
    "import random\n",
    "from bayes_opt import BayesianOptimization\n",
    "import numpy as np\n",
    "\n",
    "from DQN import DQN, ReplayBuffer, compute_loss, train, test"
   ]
  },
  {
   "cell_type": "code",
   "execution_count": null,
   "metadata": {},
   "outputs": [],
   "source": [
    "env = 'MountainCar-v0'"
   ]
  },
  {
   "cell_type": "code",
   "execution_count": null,
   "metadata": {},
   "outputs": [],
   "source": [
    "def test_func(\n",
    "        gamma=0.99,\n",
    "        eps_end=0.01,\n",
    "        eps_decay=0.995,\n",
    "        lr=1e-3,\n",
    "):\n",
    "    agent = train(\n",
    "        env_name = env,\n",
    "        hidden_dim=64,\n",
    "        gamma=gamma,\n",
    "        eps_start=1.0,\n",
    "        eps_end=eps_end,\n",
    "        eps_decay=eps_decay,\n",
    "        lr=lr,\n",
    "        capacity=100000,\n",
    "        batch_size=64,\n",
    "        target_update=10,\n",
    "        log = True\n",
    "    )\n",
    "    return test(agent, env)"
   ]
  },
  {
   "cell_type": "code",
   "execution_count": null,
   "metadata": {},
   "outputs": [],
   "source": [
    "test_func()"
   ]
  }
 ],
 "metadata": {
  "kernelspec": {
   "display_name": "Python 3",
   "language": "python",
   "name": "python3"
  },
  "language_info": {
   "codemirror_mode": {
    "name": "ipython",
    "version": 3
   },
   "file_extension": ".py",
   "mimetype": "text/x-python",
   "name": "python",
   "nbconvert_exporter": "python",
   "pygments_lexer": "ipython3",
   "version": "3.10.9"
  },
  "orig_nbformat": 4
 },
 "nbformat": 4,
 "nbformat_minor": 2
}
